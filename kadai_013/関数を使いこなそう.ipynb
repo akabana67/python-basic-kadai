{
  "nbformat": 4,
  "nbformat_minor": 0,
  "metadata": {
    "colab": {
      "provenance": []
    },
    "kernelspec": {
      "name": "python3",
      "display_name": "Python 3"
    },
    "language_info": {
      "name": "python"
    }
  },
  "cells": [
    {
      "cell_type": "code",
      "execution_count": 4,
      "metadata": {
        "colab": {
          "base_uri": "https://localhost:8080/"
        },
        "id": "0TybQKgjkYe5",
        "outputId": "e2f144cb-d9a7-45b7-cc64-ce037004ffb5"
      },
      "outputs": [
        {
          "output_type": "stream",
          "name": "stdout",
          "text": [
            "消費税込みの金額は: 121.00000000000001円です\n"
          ]
        }
      ],
      "source": [
        "def calculate_total_price(price, tax_rate):\n",
        "\n",
        "    total_price = price * (1 + tax_rate)\n",
        "    return total_price\n",
        "\n",
        "price = 110\n",
        "tax_rate = 0.1\n",
        "total = calculate_total_price(price, tax_rate)\n",
        "print(f\"消費税込みの金額は: {total}円です\")"
      ]
    }
  ]
}