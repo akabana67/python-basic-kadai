{
  "nbformat": 4,
  "nbformat_minor": 0,
  "metadata": {
    "colab": {
      "provenance": []
    },
    "kernelspec": {
      "name": "python3",
      "display_name": "Python 3"
    },
    "language_info": {
      "name": "python"
    }
  },
  "cells": [
    {
      "cell_type": "code",
      "execution_count": 2,
      "metadata": {
        "colab": {
          "base_uri": "https://localhost:8080/"
        },
        "id": "rqbyVQif0J9D",
        "outputId": "533271ae-8c8d-4a6f-c9b9-03469d4a79cb"
      },
      "outputs": [
        {
          "output_type": "stream",
          "name": "stdout",
          "text": [
            "96\n",
            "Fizz\n"
          ]
        }
      ],
      "source": [
        "import random\n",
        "var = random.randint(0,100)\n",
        "print(var)\n",
        "if var % 3 == 0:\n",
        "    print(\"Fizz\")\n",
        "elif var % 5 == 0:\n",
        "    print(\"Buzz\")\n",
        "elif var % 15 == 0:\n",
        "    print(\"FizzBuzz\")\n",
        "else:\n",
        "    print(var)"
      ]
    },
    {
      "cell_type": "code",
      "source": [],
      "metadata": {
        "id": "TygG4A3N0OJe"
      },
      "execution_count": null,
      "outputs": []
    }
  ]
}