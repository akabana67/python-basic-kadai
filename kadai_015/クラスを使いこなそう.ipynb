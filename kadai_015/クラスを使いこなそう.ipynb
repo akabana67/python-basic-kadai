{
  "nbformat": 4,
  "nbformat_minor": 0,
  "metadata": {
    "colab": {
      "provenance": []
    },
    "kernelspec": {
      "name": "python3",
      "display_name": "Python 3"
    },
    "language_info": {
      "name": "python"
    }
  },
  "cells": [
    {
      "cell_type": "code",
      "execution_count": 1,
      "metadata": {
        "colab": {
          "base_uri": "https://localhost:8080/"
        },
        "id": "lcBzPhl7eF3u",
        "outputId": "369b57b6-61f8-4356-a420-74fe3a92b0d0"
      },
      "outputs": [
        {
          "output_type": "stream",
          "name": "stdout",
          "text": [
            "名前: 侍太郎\n",
            "年齢: 30\n"
          ]
        }
      ],
      "source": [
        "class Human:\n",
        "  def __init__(self, name, age):\n",
        "    self.name = name\n",
        "    self.age = age\n",
        "\n",
        "  def set_name(self, name):\n",
        "    self.name = name\n",
        "  def set_age(self, age):\n",
        "    self.age = age\n",
        "\n",
        "  # printinfoメソッドを定義する\n",
        "  def printinfo(self):\n",
        "    print(\"名前:\", self.name)\n",
        "    print(\"年齢:\", self.age)\n",
        "\n",
        "# インスタンス化する\n",
        "human = Human(\"侍太郎\", 30)\n",
        "\n",
        "# printinfoメソッドにアクセスし、値を出力する\n",
        "human.printinfo()"
      ]
    }
  ]
}