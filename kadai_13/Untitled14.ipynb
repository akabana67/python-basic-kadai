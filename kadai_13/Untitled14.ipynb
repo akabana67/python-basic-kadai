{
  "nbformat": 4,
  "nbformat_minor": 0,
  "metadata": {
    "colab": {
      "provenance": []
    },
    "kernelspec": {
      "name": "python3",
      "display_name": "Python 3"
    },
    "language_info": {
      "name": "python"
    }
  },
  "cells": [
    {
      "cell_type": "code",
      "execution_count": 2,
      "metadata": {
        "colab": {
          "base_uri": "https://localhost:8080/"
        },
        "id": "4MPF4bZn2ogT",
        "outputId": "89435ec2-d5a6-4488-ff8c-9e196ca6fac3"
      },
      "outputs": [
        {
          "output_type": "stream",
          "name": "stdout",
          "text": [
            "1100.0yen\n"
          ]
        }
      ],
      "source": [
        "def caluculate_tax(price):\n",
        "    total = price * 1.1\n",
        "    print(f\"{total}yen\")\n",
        "caluculate_tax(1000)"
      ]
    },
    {
      "cell_type": "code",
      "source": [],
      "metadata": {
        "id": "TCez2Cy42wYf"
      },
      "execution_count": null,
      "outputs": []
    }
  ]
}