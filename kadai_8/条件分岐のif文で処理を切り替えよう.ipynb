{
  "nbformat": 4,
  "nbformat_minor": 0,
  "metadata": {
    "colab": {
      "provenance": []
    },
    "kernelspec": {
      "name": "python3",
      "display_name": "Python 3"
    },
    "language_info": {
      "name": "python"
    }
  },
  "cells": [
    {
      "cell_type": "code",
      "execution_count": 4,
      "metadata": {
        "colab": {
          "base_uri": "https://localhost:8080/"
        },
        "id": "0dcJO-P_nqVa",
        "outputId": "77459519-c6f8-4482-c73b-b4aeb35ce17b"
      },
      "outputs": [
        {
          "output_type": "stream",
          "name": "stdout",
          "text": [
            "90\n",
            "FizzBuzz\n"
          ]
        }
      ],
      "source": [
        "import random\n",
        "var = random.randint(1,100)\n",
        "print(var)\n",
        "if var % 15 ==0:\n",
        "    print(\"FizzBuzz\")\n",
        "elif var % 5 ==0:\n",
        "    print(\"Buzz\")\n",
        "elif var % 3 ==0:\n",
        "    print(\"Fizz\")\n",
        "else:\n",
        "    print(var)"
      ]
    }
  ]
}